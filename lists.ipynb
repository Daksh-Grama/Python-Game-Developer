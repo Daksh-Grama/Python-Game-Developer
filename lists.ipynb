{
 "cells": [
  {
   "cell_type": "markdown",
   "metadata": {},
   "source": [
    "### LISTS ####"
   ]
  },
  {
   "cell_type": "code",
   "execution_count": 50,
   "metadata": {},
   "outputs": [],
   "source": [
    "# Lists are one of the data structures in python along with integers, floats, boolean, strings, dictionaries etc. They are represented using square brackets\n",
    "# Lists can contain different kinds of data as a value starting with integers, floats, boolean, strings, dictionaries etc.\n",
    "# Lists can also store another list within itself. Lists within a list are known as Nested Lists\n",
    "# Lists have the property of indexing and slicing\n",
    "# Indexing is used where all the items inside a list have a positional value. Indexes are of two types : Positive and Negative index\n",
    "# Positive index start from 0, 1, 2, 3, ... and negative index start from -1, -2, -3, ...\n",
    "# Positive index are written in the direction from left to right, whereas negative indexes are written from right to left\n",
    "# Slicing is used in order to extract some items from the given list. Items are extracted by providing the index range\n",
    "# x[2 : 6], here 2 represents starting index, and 6 represents destination index.\n",
    "# we will start slicing from the starting index and will stop at one less than destination index. for x [2 : 6], we will fetch items between 2-5"
   ]
  },
  {
   "cell_type": "code",
   "execution_count": 51,
   "metadata": {},
   "outputs": [],
   "source": [
    "\n",
    "# Conditional operators are : >, <, >=, <=, !=, ==. The output of all conditional operations is either True or False"
   ]
  },
  {
   "cell_type": "code",
   "execution_count": 52,
   "metadata": {},
   "outputs": [
    {
     "name": "stdout",
     "output_type": "stream",
     "text": [
      "[132, 64.18, 'Hello Daksh', {'Test': 'Value'}, True, ['Another List', 487, False, 94.72]]\n",
      "<class 'list'>\n"
     ]
    }
   ],
   "source": [
    "x1 = [132, 64.18, \"Hello Daksh\", {\"Test\" : \"Value\"}, True, [\"Another List\", 487, False, 94.72]]\n",
    "print(x1) \n",
    "print(type(x1)) # Type function can be used to verify the data belonging to which type\n",
    "\n"
   ]
  },
  {
   "cell_type": "code",
   "execution_count": 53,
   "metadata": {},
   "outputs": [
    {
     "name": "stdout",
     "output_type": "stream",
     "text": [
      "Hello Daksh\n",
      "64.18\n",
      "o\n"
     ]
    }
   ],
   "source": [
    "print(x1[2])\n",
    "print(x1[-5])\n",
    "print(x1[2][4])"
   ]
  },
  {
   "cell_type": "code",
   "execution_count": 54,
   "metadata": {},
   "outputs": [
    {
     "name": "stdout",
     "output_type": "stream",
     "text": [
      "k\n"
     ]
    }
   ],
   "source": [
    "print(x1[2][8])"
   ]
  },
  {
   "cell_type": "code",
   "execution_count": 55,
   "metadata": {},
   "outputs": [
    {
     "name": "stdout",
     "output_type": "stream",
     "text": [
      "[64.18, 'Hello Daksh', {'Test': 'Value'}]\n",
      "['Hello Daksh', {'Test': 'Value'}, True]\n",
      "her Li\n",
      "llo \n"
     ]
    }
   ],
   "source": [
    "print(x1[1 : 4])\n",
    "print(x1[-4 : -1])\n",
    "print(x1[5][0][4:10])\n",
    "print(x1[2][2 : 6])"
   ]
  },
  {
   "cell_type": "code",
   "execution_count": null,
   "metadata": {},
   "outputs": [],
   "source": []
  },
  {
   "cell_type": "code",
   "execution_count": null,
   "metadata": {},
   "outputs": [],
   "source": []
  },
  {
   "cell_type": "code",
   "execution_count": null,
   "metadata": {},
   "outputs": [],
   "source": []
  }
 ],
 "metadata": {
  "kernelspec": {
   "display_name": "Python 3",
   "language": "python",
   "name": "python3"
  },
  "language_info": {
   "codemirror_mode": {
    "name": "ipython",
    "version": 3
   },
   "file_extension": ".py",
   "mimetype": "text/x-python",
   "name": "python",
   "nbconvert_exporter": "python",
   "pygments_lexer": "ipython3",
   "version": "3.12.6"
  }
 },
 "nbformat": 4,
 "nbformat_minor": 2
}
