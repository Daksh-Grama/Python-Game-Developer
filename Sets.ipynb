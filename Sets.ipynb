{
 "cells": [
  {
   "cell_type": "markdown",
   "metadata": {},
   "source": [
    "SETS"
   ]
  },
  {
   "cell_type": "markdown",
   "metadata": {},
   "source": [
    "Sets are another important data structure in python. Sets are a collection of well defined items"
   ]
  },
  {
   "cell_type": "markdown",
   "metadata": {},
   "source": [
    "Sets stores only unique items in them. If we end up entering duplicate items, sets will auto discrad the same"
   ]
  },
  {
   "cell_type": "markdown",
   "metadata": {},
   "source": [
    "Sets do not have the property of indexing or slicing"
   ]
  },
  {
   "cell_type": "markdown",
   "metadata": {},
   "source": [
    "Sets have 4 major operations : Union, Intersection, Difference, Symmetric Difference"
   ]
  },
  {
   "cell_type": "markdown",
   "metadata": {},
   "source": [
    "Union operation combines all the items of different sets, by discarding the duplicate items, keeping only 1 copy"
   ]
  },
  {
   "cell_type": "markdown",
   "metadata": {},
   "source": [
    "Intersection operation gives us the common items of both the sets"
   ]
  },
  {
   "cell_type": "markdown",
   "metadata": {},
   "source": [
    "Difference operation gives us the result of first set by removing the common items of second set"
   ]
  },
  {
   "cell_type": "markdown",
   "metadata": {},
   "source": [
    "Symmetric difference is basiccally the union of two sets by totally discrading the common items"
   ]
  },
  {
   "cell_type": "code",
   "execution_count": 1,
   "metadata": {},
   "outputs": [
    {
     "name": "stdout",
     "output_type": "stream",
     "text": [
      "{1, 2, 3, 4, 6, 7, 8, 9} <class 'set'>\n"
     ]
    }
   ],
   "source": [
    "set1 = {1, 2, 3, 4, 6, 4, 3, 8, 7, 9}\n",
    "print(set1, type(set1))"
   ]
  },
  {
   "cell_type": "code",
   "execution_count": 7,
   "metadata": {},
   "outputs": [
    {
     "name": "stdout",
     "output_type": "stream",
     "text": [
      "{24.36, 'Daksh', 13, ('Another List', 'Hello Daksh', 999)} <class 'set'>\n"
     ]
    }
   ],
   "source": [
    "set2 = {\"Daksh\", 13, 24.36,(\"Another List\", \"Hello Daksh\", 999)}\n",
    "print(set2, type(set2))"
   ]
  },
  {
   "cell_type": "code",
   "execution_count": 8,
   "metadata": {},
   "outputs": [
    {
     "name": "stdout",
     "output_type": "stream",
     "text": [
      "{778.12, 10, 10.23, 999} <class 'list'> <class 'set'>\n"
     ]
    }
   ],
   "source": [
    "list1 = [10, 10.23, 778.12, 999]\n",
    "set_list = set(list1)\n",
    "print(set_list, type(list1), type(set_list))"
   ]
  },
  {
   "cell_type": "code",
   "execution_count": 12,
   "metadata": {},
   "outputs": [
    {
     "name": "stdout",
     "output_type": "stream",
     "text": [
      "{1, 2, 3, 4, 5, 6, 8, 10} {1, 2, 3, 4, 5, 6, 8, 10}\n"
     ]
    }
   ],
   "source": [
    "set3 = {1, 2, 3, 4, 5}\n",
    "set4 = {2, 4, 6, 8, 10}\n",
    "\n",
    "# Union\n",
    "union1 = set3.union(set4)\n",
    "union2 = set4 | set3\n",
    "print(union1, union2)\n"
   ]
  },
  {
   "cell_type": "code",
   "execution_count": 13,
   "metadata": {},
   "outputs": [
    {
     "name": "stdout",
     "output_type": "stream",
     "text": [
      "{2, 4} {2, 4}\n"
     ]
    }
   ],
   "source": [
    "# Intersection\n",
    "inter1 = set3.intersection(set4)\n",
    "inter2 = set4 & set3\n",
    "print(inter1, inter2)"
   ]
  },
  {
   "cell_type": "code",
   "execution_count": 14,
   "metadata": {},
   "outputs": [
    {
     "name": "stdout",
     "output_type": "stream",
     "text": [
      "{1, 3, 5} {8, 10, 6}\n"
     ]
    }
   ],
   "source": [
    "# Difference\n",
    "diff1 = set3.difference(set4)\n",
    "diff2 = set4 - set3\n",
    "print(diff1, diff2)"
   ]
  },
  {
   "cell_type": "code",
   "execution_count": 16,
   "metadata": {},
   "outputs": [
    {
     "name": "stdout",
     "output_type": "stream",
     "text": [
      "{1, 3, 5, 6, 8, 10} {1, 3, 5, 6, 8, 10}\n"
     ]
    }
   ],
   "source": [
    "# Symmetric Difference\n",
    "sysdiff1 = set3.symmetric_difference(set4)\n",
    "sysdiff2 = set4 ^ set3\n",
    "print(sysdiff1, sysdiff2)"
   ]
  }
 ],
 "metadata": {
  "kernelspec": {
   "display_name": "Python 3",
   "language": "python",
   "name": "python3"
  },
  "language_info": {
   "codemirror_mode": {
    "name": "ipython",
    "version": 3
   },
   "file_extension": ".py",
   "mimetype": "text/x-python",
   "name": "python",
   "nbconvert_exporter": "python",
   "pygments_lexer": "ipython3",
   "version": "3.12.6"
  }
 },
 "nbformat": 4,
 "nbformat_minor": 2
}
